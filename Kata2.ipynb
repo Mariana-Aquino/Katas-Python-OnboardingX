{
 "cells": [
  {
   "cell_type": "markdown",
   "metadata": {},
   "source": [
    "# Crear un entorno virtual\n",
    "\n",
    "Crea un entorno virtual mediante ``venv``\n",
    "\n",
    "![Kata2](./images/create.png)\n",
    "\n",
    "Ejecuta el comando para activar el entorno virtual: ``source ./env/Scripts/activate``\n",
    "\n",
    "![Kata2](./images/install.png)\n",
    "\n",
    "Vemos en la terminal ``(env)``. Eso significa que se ha activado el entorno virtual y se ha aislado del resto de la máquina.\n",
    "\n",
    "# Instalar una biblioteca\n",
    "\n",
    "Ejecuta el comando ``pip freeze`` para ver las bibliotecas instaladas en tu entorno.\n",
    "\n",
    "![Kata2](./images/execute.png)\n",
    "\n",
    "Ejecuta el comando ``pip install python-dateutil`` para instalar la biblioteca.\n",
    "\n",
    "![Kata2](./images/executepip.png)\n",
    "\n",
    "Vuelve a ejecutar ``pip freeze`` para ver cómo ha cambiado tu lista de bibliotecas:\n",
    "\n",
    "![Kata2](./images/execute2.png)\n",
    "\n",
    "# Desactivar un entorno virtual\n",
    "\n",
    "Ejecuta el comando ``deactivate``.\n",
    "\n",
    "![Kata2](./images/deactivate.png)\n",
    "\n",
    "\n"
   ]
  }
 ],
 "metadata": {
  "interpreter": {
   "hash": "2be5faf79681da6f2a61fdfdd5405d65d042280f7fba6178067603e3a2925119"
  },
  "kernelspec": {
   "display_name": "Python 3.10.0 64-bit",
   "language": "python",
   "name": "python3"
  },
  "language_info": {
   "name": "python",
   "version": "3.10.0"
  },
  "orig_nbformat": 4
 },
 "nbformat": 4,
 "nbformat_minor": 2
}
