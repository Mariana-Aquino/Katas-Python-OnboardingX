{
  "cells": [
    {
      "cell_type": "markdown",
      "metadata": {},
      "source": [
        "# Ejercicio: Uso de funciones en Python"
      ]
    },
    {
      "cell_type": "markdown",
      "metadata": {},
      "source": [
        "### Ejercicio 1: Trabajar con argumentos en funciones\n",
        "\n",
        "Los argumentos requeridos en las funciones se utilizan cuando las funciones necesitan que esos argumentos funcionen correctamente. En este ejercicio, construirás un informe de combustible que requiere información de varias ubicaciones de combustible en todo el cohete.\n",
        "\n"
      ]
    },
    {
      "cell_type": "markdown",
      "metadata": {},
      "source": [
        "> **TIP**\n",
        "> Dedica unos minutos para tratar de encontrar una solución. Luego desplázate hacia abajo hasta la parte inferior para ver si has logrado compilar el programa de acuerdo con las especificaciones\n",
        "\n",
        "Comienza por crear una función que necesite tres lecturas de combustible y devuelva un informe:"
      ]
    },
    {
      "cell_type": "code",
      "execution_count": 3,
      "metadata": {},
      "outputs": [],
      "source": [
        "# Función para leer 3 tanques de combustible y muestre el promedio\n",
        "\n",
        "def report_tanques (tanque1, tanque2, tanque3):\n",
        "    prom = (tanque1 + tanque2 + tanque3) / 3\n",
        "\n",
        "    return f\"\"\"\n",
        "\n",
        "    -------------------------------\n",
        "    **          Reporte          **\n",
        "    -------------------------------\n",
        "    Promedio: {prom}\n",
        "    Primer tanque: {tanque1}\n",
        "    Segundo tanque: {tanque2}\n",
        "    Tercer tanque: {tanque3}\n",
        "    \"\"\""
      ]
    },
    {
      "cell_type": "markdown",
      "metadata": {},
      "source": [
        "Ahora que hemos definido la función de informes, vamos a comprobarlo. Para esta misión, los tanques no están llenos:"
      ]
    },
    {
      "cell_type": "code",
      "execution_count": 4,
      "metadata": {},
      "outputs": [
        {
          "name": "stdout",
          "output_type": "stream",
          "text": [
            "\n",
            "\n",
            "    -------------------------------\n",
            "    **          Reporte          **\n",
            "    -------------------------------\n",
            "    Promedio: 80.0\n",
            "    Primer tanque: 50\n",
            "    Segundo tanque: 80\n",
            "    Tercer tanque: 110\n",
            "    \n"
          ]
        }
      ],
      "source": [
        "\n",
        "# Llamamos a la función que genera el reporte print(funcion(tanque1, tanque2, tanque3))\n",
        "\n",
        "print(report_tanques(50, 80, 110))"
      ]
    },
    {
      "cell_type": "markdown",
      "metadata": {},
      "source": [
        "En lugar de simplemente crear el informe, la función también está calculando el promedio. Mejora la legibilidad extrayendo el cálculo promedio de la función en una nueva función para que el promedio se pueda hacer de forma independiente:"
      ]
    },
    {
      "cell_type": "code",
      "execution_count": 5,
      "metadata": {},
      "outputs": [],
      "source": [
        "# Función promedio \n",
        "\n",
        "def prom_tanques(cont_tanques):\n",
        "    total = sum(cont_tanques)\n",
        "    total_tanques = len(cont_tanques)\n",
        "    return total / total_tanques\n",
        "\n",
        "def report(tanque1, tanque2, tanque3):\n",
        "    return f\"\"\"\n",
        "\n",
        "    ---------------------------------\n",
        "    **          Reporte 2          **\n",
        "    ---------------------------------\n",
        "    Promedio: {prom_tanques([tanque1, tanque2, tanque3])}\n",
        "    Primer tanque: {tanque1}\n",
        "    Segundo tanque: {tanque2}\n",
        "    Tercer tanque: {tanque3}\n",
        "    \"\"\""
      ]
    },
    {
      "cell_type": "markdown",
      "metadata": {},
      "source": [
        "Ahora actualiza la función de informes para llamando a la nueva función del promedio:\n"
      ]
    },
    {
      "cell_type": "code",
      "execution_count": 7,
      "metadata": {},
      "outputs": [
        {
          "name": "stdout",
          "output_type": "stream",
          "text": [
            "\n",
            "\n",
            "    ---------------------------------\n",
            "    **          Reporte 2          **\n",
            "    ---------------------------------\n",
            "    Promedio: 80.0\n",
            "    Primer tanque: 50\n",
            "    Segundo tanque: 80\n",
            "    Tercer tanque: 110\n",
            "    \n"
          ]
        }
      ],
      "source": [
        "# Actualiza la función\n",
        "\n",
        "print(report(50, 80, 110))"
      ]
    },
    {
      "cell_type": "markdown",
      "metadata": {},
      "source": [
        "> Recuerda: Lo importante es intentarlo, puedes auxiliarte de internet, libros, etc. El objetivo de una kata es la comprobación de la comprensión de la lección y su aplicación inmediata a la resolución de problemas. Go for it!"
      ]
    },
    {
      "cell_type": "markdown",
      "metadata": {},
      "source": [
        "## Ejercicio 2: Trabajo con argumentos de palabra clave"
      ]
    },
    {
      "cell_type": "markdown",
      "metadata": {},
      "source": [
        "### Ejercicio : Trabajar con argumentos de palabras clave en funciones\n",
        "En este ejercicio, construirás un informe de cohete que requiere varias piezas de información, como el tiempo hasta el destino, el combustible a la izquierda y el nombre del destino. Comienza por crear una función que creará un informe preciso de la misión:"
      ]
    },
    {
      "cell_type": "code",
      "execution_count": 9,
      "metadata": {},
      "outputs": [
        {
          "name": "stdout",
          "output_type": "stream",
          "text": [
            "\n",
            "    -------------------------------\n",
            "    **      Informe preciso      **\n",
            "    -------------------------------\n",
            "    Destino a Mercurio\n",
            "    Tiempo de prelanzamiento: 30 min\n",
            "    Tiempo de vuelo: 60 min\n",
            "    Tiempo total: 90 min\n",
            "    Combustible total: 4907000 galones\n",
            "    \n"
          ]
        }
      ],
      "source": [
        "# Función con un informe preciso de la misión. Considera hora de prelanzamiento, tiempo de vuelo, destino, tanque externo y tanque interno\n",
        "\n",
        "def special_report(tiempo_prelanzamiento, tiempo_vuelo, destino, tanque_externo, tanque_interno):\n",
        "    return f\"\"\"\n",
        "    -------------------------------\n",
        "    **      Informe preciso      **\n",
        "    -------------------------------\n",
        "    Destino a {destino}\n",
        "    Tiempo de prelanzamiento: {tiempo_prelanzamiento} min\n",
        "    Tiempo de vuelo: {tiempo_vuelo} min\n",
        "    Tiempo total: {tiempo_prelanzamiento + tiempo_vuelo} min\n",
        "    Combustible total: {tanque_interno + tanque_externo} galones\n",
        "    \"\"\"\n",
        "\n",
        "print(special_report(30, 60, \"Mercurio\", 1457000, 3450000))"
      ]
    },
    {
      "cell_type": "markdown",
      "metadata": {},
      "source": [
        "La función es problemática porque no se puede adaptar para minutos adicionales o tanques adicionales de combustible. Hazlo más flexible permitiendo cualquier número de pasos basados en el tiempo y cualquier número de tanques. En lugar de usar `*args` y `**kwargs`, aprovecha el hecho de que puedes usar cualquier nombre que desees. Asegurate que la función sea más legible mediante el uso de nombres de variables que están asociados con las entradas, como `*minutes` y `**fuel_reservoirs`:"
      ]
    },
    {
      "cell_type": "code",
      "execution_count": 13,
      "metadata": {},
      "outputs": [
        {
          "name": "stdout",
          "output_type": "stream",
          "text": [
            "\n",
            "    -------------------------------------------\n",
            "    **        Segundo Informe Especial       **\n",
            "    -------------------------------------------\n",
            "    Destino a Júpiter\n",
            "    Tiempo total: 685 minutos\n",
            "    Total de tanques: 2 unidades\n",
            "    Total de combustible: 890000 galones\n",
            "    \t- Tanque interno: 540000 galones \n",
            "\t- Tanque externo: 350000 galones \n",
            "\n"
          ]
        }
      ],
      "source": [
        "# Escribe tu nueva función de reporte considerando lo anterior\n",
        "\n",
        "def special_report2(destino, *minutes, **fuel_reservoirs):\n",
        "    report = f\"\"\"\n",
        "    -------------------------------------------\n",
        "    **        Segundo Informe Especial       **\n",
        "    -------------------------------------------\n",
        "    Destino a {destino}\n",
        "    Tiempo total: {sum(minutes)} minutos\n",
        "    Total de tanques: {len(fuel_reservoirs)} unidades\n",
        "    Total de combustible: {sum(fuel_reservoirs.values())} galones\n",
        "    \"\"\"\n",
        "\n",
        "    for tanque, content, in fuel_reservoirs.items():\n",
        "        report += f\"\\t- Tanque {tanque}: {content} galones \\n\"\n",
        "\n",
        "    return report\n",
        "\n",
        "print(special_report2(\"Júpiter\", 340, 345, interno= 540000, externo= 350000))\n",
        "\n",
        "    "
      ]
    }
  ],
  "metadata": {
    "interpreter": {
      "hash": "205095b8b86ea82a021a8fc2ffba2b3bc9f8d0be25999901963b225939f75778"
    },
    "kernelspec": {
      "display_name": "Python 3.8.10 64-bit ('tmp': conda)",
      "name": "python3"
    },
    "language_info": {
      "codemirror_mode": {
        "name": "ipython",
        "version": 3
      },
      "file_extension": ".py",
      "mimetype": "text/x-python",
      "name": "python",
      "nbconvert_exporter": "python",
      "pygments_lexer": "ipython3",
      "version": "3.10.0"
    },
    "nteract": {
      "version": "nteract-front-end@1.0.0"
    },
    "orig_nbformat": 4
  },
  "nbformat": 4,
  "nbformat_minor": 2
}
